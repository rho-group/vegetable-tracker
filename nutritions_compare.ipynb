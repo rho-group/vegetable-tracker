{
 "cells": [
  {
   "cell_type": "code",
   "execution_count": 1,
   "id": "d8a78efa",
   "metadata": {},
   "outputs": [],
   "source": [
    "import pandas as pd"
   ]
  },
  {
   "cell_type": "code",
   "execution_count": 29,
   "id": "12954e11",
   "metadata": {},
   "outputs": [],
   "source": [
    "comparison = {\n",
    "    \"CA\" : 100,\n",
    "    \"CAROTENS\" : 1000,\n",
    "    \"FE\" : 2,\n",
    "    \"FIBC\" : 2,\n",
    "    \"FOL\" : 50,\n",
    "    \"ID\" : 30,\n",
    "    \"K\" : 300,\n",
    "    \"MG\" : 50,\n",
    "    \"NIAEQ\" : 3,\n",
    "    \"P\" : 200,\n",
    "    \"RIBF\" : 0.2,\n",
    "    \"SE\" : 20,\n",
    "    \"THIA\" : 0.2,\n",
    "    \"VITA\" : 500,\n",
    "    \"VITB12\" : 2,\n",
    "    \"VITC\" : 50,\n",
    "    \"VITD\" : 2.5,\n",
    "    \"VITE\" : 5,\n",
    "    \"VITK\" : 100,\n",
    "    \"VITPYRID\" : 0.3,\n",
    "    \"ZN\" : 5\n",
    "}"
   ]
  },
  {
   "cell_type": "code",
   "execution_count": 4,
   "id": "68fec2fd",
   "metadata": {},
   "outputs": [],
   "source": [
    "nutritions = pd.read_csv(\"nutrition data\\\\nutritions.csv\", sep=\";\")"
   ]
  },
  {
   "cell_type": "code",
   "execution_count": null,
   "id": "ab2b1903",
   "metadata": {},
   "outputs": [],
   "source": [
    "nutritions.drop(columns=[\"EDPORT\", \"FOODTYPE\", \"PROCESS\", \"IGCLASS\", \"IGCLASSP\"], inplace=True)"
   ]
  },
  {
   "cell_type": "code",
   "execution_count": 15,
   "id": "5ce20db9",
   "metadata": {},
   "outputs": [],
   "source": [
    "nutritions.drop(columns=[ 'NACL', 'NATRIUM', 'NIA'], inplace=True)"
   ]
  },
  {
   "cell_type": "code",
   "execution_count": 17,
   "id": "b154c46e",
   "metadata": {},
   "outputs": [
    {
     "data": {
      "text/plain": [
       "Index(['FOODID', 'FOODNAME_y', 'CA', 'CAROTENS', 'FE', 'FIBC', 'FOL', 'ID',\n",
       "       'K', 'MG', 'NIAEQ', 'P', 'RIBF', 'SE', 'THIA', 'VITA', 'VITB12', 'VITC',\n",
       "       'VITD', 'VITE', 'VITK', 'VITPYRID', 'ZN'],\n",
       "      dtype='object')"
      ]
     },
     "execution_count": 17,
     "metadata": {},
     "output_type": "execute_result"
    }
   ],
   "source": [
    "nutritions.columns"
   ]
  },
  {
   "cell_type": "code",
   "execution_count": 24,
   "id": "5b6a2205",
   "metadata": {},
   "outputs": [],
   "source": [
    "list_of_columns = ['CA', 'CAROTENS', 'FE', 'FIBC', 'FOL', 'ID',\n",
    "       'K', 'MG', 'NIAEQ', 'P', 'RIBF', 'SE', 'THIA', 'VITA', 'VITB12', 'VITC',\n",
    "       'VITD', 'VITE', 'VITK', 'VITPYRID', 'ZN']\n",
    "\n",
    "for column in list_of_columns:\n",
    "       nutritions[column] = nutritions[column].str.replace(',', '.').astype(float)"
   ]
  },
  {
   "cell_type": "code",
   "execution_count": null,
   "id": "ef8e0f77",
   "metadata": {},
   "outputs": [],
   "source": [
    "for col, val in comparison.items():\n",
    "    nutritions[f'Greater_Than_{val}_{col}'] = nutritions[col] > val "
   ]
  },
  {
   "cell_type": "code",
   "execution_count": 37,
   "id": "98d4ae5e",
   "metadata": {},
   "outputs": [],
   "source": [
    "nutritions.columns = ['FOODID', 'FOODNAME_y', 'CA', 'CAROTENS', 'FE', 'FIBC', 'FOL', 'JODI',\n",
    "       'K', 'MG', 'NIAEQ', 'P', 'RIBF', 'SE', 'THIA', 'VITA', 'VITB12', 'VITC',\n",
    "       'VITD', 'VITE', 'VITK', 'VITPYRID', 'ZN', 'Calsium',\n",
    "       'Carotenoids', 'Iron','Fiber', 'Folate', 'Iodine',\n",
    "       'Kalium', 'Magnesium', 'Niacin',\n",
    "       'Phosphorus', 'Riboflavin', 'Selenium',\n",
    "       'Thiamin', 'Vitamin A',\n",
    "       'Vitamin B12', 'Vitamin C',\n",
    "       'Vitamin D', 'Vitamin E', 'Vitamin K',\n",
    "       'Vitamin B6', 'Zinc']"
   ]
  },
  {
   "cell_type": "code",
   "execution_count": 41,
   "id": "4e30299e",
   "metadata": {},
   "outputs": [
    {
     "name": "stderr",
     "output_type": "stream",
     "text": [
      "C:\\Users\\SallaKivistö\\AppData\\Local\\Temp\\ipykernel_20364\\630823820.py:11: FutureWarning: Downcasting behavior in `replace` is deprecated and will be removed in a future version. To retain the old behavior, explicitly call `result.infer_objects(copy=False)`. To opt-in to the future behavior, set `pd.set_option('future.no_silent_downcasting', True)`\n",
      "  nutritions[column] = nutritions[column].replace({True: 1, False: 0})\n"
     ]
    }
   ],
   "source": [
    "boolean_columns = ['Calsium',\n",
    "       'Carotenoids', 'Iron','Fiber', 'Folate', 'Iodine',\n",
    "       'Kalium', 'Magnesium', 'Niacin',\n",
    "       'Phosphorus', 'Riboflavin', 'Selenium',\n",
    "       'Thiamin', 'Vitamin A',\n",
    "       'Vitamin B12', 'Vitamin C',\n",
    "       'Vitamin D', 'Vitamin E', 'Vitamin K',\n",
    "       'Vitamin B6', 'Zinc']\n",
    "\n",
    "for column in boolean_columns:\n",
    "    nutritions[column] = nutritions[column].replace({True: 1, False: 0})"
   ]
  },
  {
   "cell_type": "code",
   "execution_count": 42,
   "id": "21940889",
   "metadata": {},
   "outputs": [
    {
     "data": {
      "text/html": [
       "<div>\n",
       "<style scoped>\n",
       "    .dataframe tbody tr th:only-of-type {\n",
       "        vertical-align: middle;\n",
       "    }\n",
       "\n",
       "    .dataframe tbody tr th {\n",
       "        vertical-align: top;\n",
       "    }\n",
       "\n",
       "    .dataframe thead th {\n",
       "        text-align: right;\n",
       "    }\n",
       "</style>\n",
       "<table border=\"1\" class=\"dataframe\">\n",
       "  <thead>\n",
       "    <tr style=\"text-align: right;\">\n",
       "      <th></th>\n",
       "      <th>CA</th>\n",
       "      <th>Calsium</th>\n",
       "    </tr>\n",
       "  </thead>\n",
       "  <tbody>\n",
       "    <tr>\n",
       "      <th>0</th>\n",
       "      <td>33.0</td>\n",
       "      <td>0</td>\n",
       "    </tr>\n",
       "    <tr>\n",
       "      <th>1</th>\n",
       "      <td>30.0</td>\n",
       "      <td>0</td>\n",
       "    </tr>\n",
       "    <tr>\n",
       "      <th>2</th>\n",
       "      <td>19.0</td>\n",
       "      <td>0</td>\n",
       "    </tr>\n",
       "    <tr>\n",
       "      <th>3</th>\n",
       "      <td>32.0</td>\n",
       "      <td>0</td>\n",
       "    </tr>\n",
       "    <tr>\n",
       "      <th>4</th>\n",
       "      <td>13.0</td>\n",
       "      <td>0</td>\n",
       "    </tr>\n",
       "    <tr>\n",
       "      <th>...</th>\n",
       "      <td>...</td>\n",
       "      <td>...</td>\n",
       "    </tr>\n",
       "    <tr>\n",
       "      <th>374</th>\n",
       "      <td>165.0</td>\n",
       "      <td>1</td>\n",
       "    </tr>\n",
       "    <tr>\n",
       "      <th>375</th>\n",
       "      <td>2830.0</td>\n",
       "      <td>1</td>\n",
       "    </tr>\n",
       "    <tr>\n",
       "      <th>376</th>\n",
       "      <td>36.0</td>\n",
       "      <td>0</td>\n",
       "    </tr>\n",
       "    <tr>\n",
       "      <th>377</th>\n",
       "      <td>160.0</td>\n",
       "      <td>1</td>\n",
       "    </tr>\n",
       "    <tr>\n",
       "      <th>378</th>\n",
       "      <td>35.0</td>\n",
       "      <td>0</td>\n",
       "    </tr>\n",
       "  </tbody>\n",
       "</table>\n",
       "<p>379 rows × 2 columns</p>\n",
       "</div>"
      ],
      "text/plain": [
       "         CA  Calsium\n",
       "0      33.0        0\n",
       "1      30.0        0\n",
       "2      19.0        0\n",
       "3      32.0        0\n",
       "4      13.0        0\n",
       "..      ...      ...\n",
       "374   165.0        1\n",
       "375  2830.0        1\n",
       "376    36.0        0\n",
       "377   160.0        1\n",
       "378    35.0        0\n",
       "\n",
       "[379 rows x 2 columns]"
      ]
     },
     "execution_count": 42,
     "metadata": {},
     "output_type": "execute_result"
    }
   ],
   "source": [
    "nutritions[[\"CA\", 'Calsium']]"
   ]
  },
  {
   "cell_type": "code",
   "execution_count": 43,
   "id": "161a47ac",
   "metadata": {},
   "outputs": [],
   "source": [
    "nutritions.to_csv(\"nutrition data\\\\nutritions_first.csv\")"
   ]
  }
 ],
 "metadata": {
  "kernelspec": {
   "display_name": ".venv",
   "language": "python",
   "name": "python3"
  },
  "language_info": {
   "codemirror_mode": {
    "name": "ipython",
    "version": 3
   },
   "file_extension": ".py",
   "mimetype": "text/x-python",
   "name": "python",
   "nbconvert_exporter": "python",
   "pygments_lexer": "ipython3",
   "version": "3.13.1"
  }
 },
 "nbformat": 4,
 "nbformat_minor": 5
}
